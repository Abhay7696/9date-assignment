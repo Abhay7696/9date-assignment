{
 "cells": [
  {
   "cell_type": "code",
   "execution_count": null,
   "id": "f1b82422-2af0-41e7-92aa-dbd816a85ae3",
   "metadata": {},
   "outputs": [],
   "source": [
    "Q1, Create a vehicle class with an init method having instance variables as name_of_vehicle, max_speed\n",
    "and average_of_vehicle."
   ]
  },
  {
   "cell_type": "code",
   "execution_count": 7,
   "id": "48b20525-1670-4ba3-851b-2f0a44724116",
   "metadata": {},
   "outputs": [
    {
     "name": "stdout",
     "output_type": "stream",
     "text": [
      "maruti baleno 220 10000\n"
     ]
    }
   ],
   "source": [
    "class Vehicle:\n",
    "    def __init__(self,name_of_vehicle , max_speed, mileage):\n",
    "        self.name_of_vehicle = name_of_vehicle\n",
    "        self.max_speed = max_speed\n",
    "        self.mileage = mileage\n",
    "        \n",
    "        \n",
    "car = Vehicle(\"maruti baleno\", 220, 10000)\n",
    "print(car.name_of_vehicle , car.max_speed, car.mileage)"
   ]
  },
  {
   "cell_type": "code",
   "execution_count": null,
   "id": "0a683cb1-a7e1-46d3-8c6b-28afa47bf0ef",
   "metadata": {},
   "outputs": [],
   "source": [
    "Q2. Create a child class car from the vehicle class created in Que 1, which will inherit the vehicle class.\n",
    "Create a method named seating_capacity which takes capacity as an argument and returns the name of\n",
    "the vehicle and its seating capacity."
   ]
  },
  {
   "cell_type": "code",
   "execution_count": null,
   "id": "de7c45e3-1685-4dc5-8818-106c65d8e4de",
   "metadata": {},
   "outputs": [],
   "source": [
    "class bus(Vehicle):\n",
    "    \n",
    "    def seating_capacity(self, capacity=50):\n",
    "        return f\"The seating capacity of a {self.name} is {capacity} passengers\"\n",
    "    \n",
    "bus(\"school bus\", 120, 2990).seating_capacity()"
   ]
  },
  {
   "cell_type": "code",
   "execution_count": null,
   "id": "29e53c24-3e16-4a54-91b9-b99708716ffb",
   "metadata": {},
   "outputs": [],
   "source": [
    "What is multiple inheritance? Write a python code to demonstrate multiple inheritance."
   ]
  },
  {
   "cell_type": "code",
   "execution_count": null,
   "id": "f903cf3c-890b-408b-a550-10e9d331a464",
   "metadata": {},
   "outputs": [],
   "source": [
    "When a class is derived from more than one base class it is called multiple Inheritance. The derived class inherits all the features of the base case. \n",
    "Syntax: Class Base1: Body of the class Class Base2: Body of the class Class Derived(Base1, Base2): Body of the class."
   ]
  },
  {
   "cell_type": "code",
   "execution_count": null,
   "id": "7be36e39-253e-4161-b6c6-c066240bb9e0",
   "metadata": {},
   "outputs": [],
   "source": [
    "Q4. What are getter and setter in python? Create a class and create a getter and a setter method in this class."
   ]
  },
  {
   "cell_type": "code",
   "execution_count": null,
   "id": "414baea9-45df-4adc-b78b-9bc4a9f5d80d",
   "metadata": {},
   "outputs": [],
   "source": [
    "\n",
    "What are Getters and Setters? Getters:\n",
    "    These are the methods used in Object-Oriented Programming (OOPS) which helps to access the private attributes from a class. Setters: \n",
    "        These are the methods used in OOPS feature which helps to set the value to private attributes in a class."
   ]
  },
  {
   "cell_type": "code",
   "execution_count": null,
   "id": "8b8260b3-27a8-4881-83bb-31adeb4377f0",
   "metadata": {},
   "outputs": [],
   "source": [
    "Q5.What is method overriding in python? Write a python code to demonstrate method overriding."
   ]
  },
  {
   "cell_type": "code",
   "execution_count": null,
   "id": "0c36ce08-879e-4d9b-a521-5c6008e4091d",
   "metadata": {},
   "outputs": [],
   "source": [
    " we have defined the run method in the subclass as defined in the parent class but it has some specific implementation. \n",
    "    The name and parameter of the method are the same, and there is IS-A relationship between the classes, so there is method overriding."
   ]
  },
  {
   "cell_type": "code",
   "execution_count": null,
   "id": "8571926a-be70-4e9b-a479-4c1b2da91a3b",
   "metadata": {},
   "outputs": [],
   "source": []
  },
  {
   "cell_type": "code",
   "execution_count": null,
   "id": "c68f5e2b-bece-4a64-a7df-8fcbf5be9afd",
   "metadata": {},
   "outputs": [],
   "source": []
  },
  {
   "cell_type": "code",
   "execution_count": null,
   "id": "1043714a-33d0-4e4c-b2ea-6139d9754192",
   "metadata": {},
   "outputs": [],
   "source": []
  },
  {
   "cell_type": "code",
   "execution_count": null,
   "id": "b82cdaad-efcf-4cff-8c8e-aece22829699",
   "metadata": {},
   "outputs": [],
   "source": []
  },
  {
   "cell_type": "code",
   "execution_count": null,
   "id": "4f9a726a-1107-4a1e-b91e-192f349c7810",
   "metadata": {},
   "outputs": [],
   "source": []
  }
 ],
 "metadata": {
  "kernelspec": {
   "display_name": "Python 3 (ipykernel)",
   "language": "python",
   "name": "python3"
  },
  "language_info": {
   "codemirror_mode": {
    "name": "ipython",
    "version": 3
   },
   "file_extension": ".py",
   "mimetype": "text/x-python",
   "name": "python",
   "nbconvert_exporter": "python",
   "pygments_lexer": "ipython3",
   "version": "3.10.8"
  }
 },
 "nbformat": 4,
 "nbformat_minor": 5
}
